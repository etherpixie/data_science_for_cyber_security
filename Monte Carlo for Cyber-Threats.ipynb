{
 "cells": [
  {
   "cell_type": "markdown",
   "id": "3e061d75",
   "metadata": {},
   "source": [
    "# Monte Carlo simulation for cyber threats portfolio"
   ]
  },
  {
   "cell_type": "markdown",
   "id": "90fb166b",
   "metadata": {},
   "source": [
    "This python script uses a Monte Carlo simulation to calculate the total cyber-value-at-risk for a portfolio of cyber threats."
   ]
  },
  {
   "cell_type": "code",
   "execution_count": null,
   "id": "d0c2554a",
   "metadata": {},
   "outputs": [],
   "source": [
    "#Import the libraries\n",
    "import pandas as pd\n",
    "import random\n",
    "import matplotlib.pyplot as plt\n",
    "import numpy as np"
   ]
  },
  {
   "cell_type": "code",
   "execution_count": null,
   "id": "5a7c92a8",
   "metadata": {},
   "outputs": [],
   "source": [
    "# Define a Pandas Dataframe with the cyber events, probability of occurrence (the likelihood) and the impact in dollars\n",
    "# in a upper and lower range\n",
    "\n",
    "data = {'Event': ['Phishing Attack', 'Ransomware Attack', 'DDoS Attack', 'Data Breach'],\n",
    "        'Probability': [0.5, 0.2, 0.05, 0.35],\n",
    "        'Lower': [10000, 50000, 100000, 250000],\n",
    "        'Upper': [50000, 100000, 250000, 500000]}\n",
    "\n",
    "cyber_threats = pd.DataFrame(data)\n",
    "\n"
   ]
  },
  {
   "cell_type": "markdown",
   "id": "a446ad1e",
   "metadata": {},
   "source": [
    "Understanding the functions and what they do:\n",
    "\n",
    "1 - is_attack_successful(probability) : This function generates a random number between 0 and 1 and checks if it is less than or equal to the probability passed as an argument. If it is, the attack is considered successful and the function returns True. If not, it returns False.\n",
    "\n",
    "2 - calculate_loss(lower, upper) : This function generates a random number between the lower and upper bounds passed as arguments and returns it.\n",
    "\n",
    "3 - simulate_risk_portfolio(cyber_threats) : This function iterates over each risk in the cyber_threats DataFrame and checks if the attack is successful using the is_attack_successful function. If it is, it calculates the loss using the calculate_loss function and adds it to the total loss. It returns the total loss.\n",
    "\n",
    "4 - monte_carlo_simulation(cyber_threats, iterations) : This function runs the simulation by calling the simulate_risk_portfolio function for the number of iterations passed as an argument. It stores the result of each iteration in the losses_per_year list and returns it.\n",
    "\n",
    "References: \n",
    "\n",
    "https://www.dataskunkworks.com/latest-posts/building-a-quantitative-cyber-risk-model-in-python\n",
    "\n",
    "https://ora.ox.ac.uk/objects/uuid:e22b206e-5c7b-4298-9519-dcd37fd21bce/download_file?safe_filename=Erola_et_al_2021_a_system_to.pdf&type_of_work=Journal+article\n"
   ]
  },
  {
   "cell_type": "code",
   "execution_count": null,
   "id": "2a9da5aa",
   "metadata": {},
   "outputs": [],
   "source": [
    "# Setup the functions for the Monte Carlo simulation\n",
    "\n",
    "def is_attack_successful(probability):\n",
    "    return random.random() <= probability\n",
    "\n",
    "def calculate_loss(lower, upper):\n",
    "    return random.uniform(lower, upper)\n",
    "\n",
    "def simulate_risk_portfolio(cyber_threats):\n",
    "    total_loss = 0\n",
    "    for risk in cyber_threats.itertuples():\n",
    "        if is_attack_successful(risk.Probability):\n",
    "            total_loss += calculate_loss(risk.Lower, risk.Upper)\n",
    "    return total_loss\n",
    "\n",
    "iterations = 1000\n",
    "def monte_carlo_simulation(cyber_threats, iterations):\n",
    "    losses_per_year = []\n",
    "    for i in range(iterations):\n",
    "        loss = simulate_risk_portfolio(cyber_threats)\n",
    "        losses_per_year.append(loss)\n",
    "    return losses_per_year\n",
    "\n",
    "losses_per_year = monte_carlo_simulation(cyber_threats, iterations)\n"
   ]
  },
  {
   "cell_type": "code",
   "execution_count": null,
   "id": "7dac0020",
   "metadata": {},
   "outputs": [],
   "source": [
    "# Visualise the data\n",
    "\n",
    "# Plot the yearly losses\n",
    "plt.plot(losses_per_year)\n",
    "plt.xlabel(\"Iterations\")\n",
    "plt.ylabel(\"Yearly Losses\")\n",
    "plt.show()\n",
    "\n",
    "# Plot the loss exceedance curve\n",
    "sorted_losses = sorted(losses_per_year)\n",
    "p = 1 - np.arange(1, len(losses_per_year) + 1) / len(losses_per_year)\n",
    "plt.plot(sorted_losses, p)\n",
    "plt.xlabel(\"Losses($)\")\n",
    "plt.ylabel(\"Probability of exceedance\")\n",
    "plt.show()"
   ]
  },
  {
   "cell_type": "markdown",
   "id": "f65bba40",
   "metadata": {},
   "source": [
    "# Assess convergence"
   ]
  },
  {
   "cell_type": "markdown",
   "id": "af81d14e",
   "metadata": {},
   "source": [
    "Assessing convergence is an important step in any Monte Carlo simulation, as it helps to ensure that the results of the simulation are reliable and accurate. It seems we need a few more iterations than anticipated."
   ]
  },
  {
   "cell_type": "code",
   "execution_count": null,
   "id": "60debf6b",
   "metadata": {},
   "outputs": [],
   "source": [
    "import numpy as np\n",
    "\n",
    "# run the simulation for a large number of iterations\n",
    "num_iterations = 10000\n",
    "losses_per_year = monte_carlo_simulation(cyber_threats, num_iterations)\n",
    "\n",
    "# Divide the total number of iterations into blocks\n",
    "block_size = 100\n",
    "num_blocks = int(num_iterations/block_size)\n",
    "\n",
    "# calculate the variance of the results for each block\n",
    "variances = []\n",
    "for i in range(num_blocks):\n",
    "    start = i*block_size\n",
    "    end = (i+1)*block_size\n",
    "    block_losses = losses_per_year[start:end]\n",
    "    variance = np.var(block_losses)\n",
    "    variances.append(variance)\n",
    "\n",
    "# Plot the variances of each block\n",
    "plt.figure(figsize=(10,5))\n",
    "plt.plot(range(num_blocks), variances)\n",
    "plt.xlabel(\"Block number\")\n",
    "plt.ylabel(\"Variance of losses\")\n",
    "plt.show()"
   ]
  },
  {
   "cell_type": "markdown",
   "id": "45cec091",
   "metadata": {},
   "source": [
    "# Plot nicer graphs"
   ]
  },
  {
   "cell_type": "code",
   "execution_count": null,
   "id": "ff808975",
   "metadata": {},
   "outputs": [],
   "source": [
    "# Set the figure size\n",
    "plt.figure(figsize=(10,5))\n",
    "# Set the plot style\n",
    "plt.style.use('ggplot')\n",
    "\n",
    "# Add grid lines\n",
    "plt.grid(True)\n",
    "\n",
    "# Plot the annualized losses over the years\n",
    "plt.plot(losses_per_year)\n",
    "\n",
    "# Customize the axis labels\n",
    "plt.xlabel(\"Iterations\", fontsize=12, color='black', fontweight='bold')\n",
    "plt.ylabel(\"Yearly losses($)\", fontsize=12, color='black', fontweight='bold')\n",
    "\n",
    "# Add a title\n",
    "plt.title(\"Yearly losses\", fontsize=14, fontweight='bold')"
   ]
  },
  {
   "cell_type": "code",
   "execution_count": null,
   "id": "9347c27b",
   "metadata": {},
   "outputs": [],
   "source": [
    "sorted_losses = sorted(losses_per_year)\n",
    "p = 1 - np.arange(1, len(losses_per_year) + 1) / len(losses_per_year)\n",
    "\n",
    "# Set the figure size\n",
    "plt.figure(figsize=(10,5))\n",
    "# Set the plot style\n",
    "plt.style.use('ggplot')\n",
    "\n",
    "# Add grid lines\n",
    "plt.grid(True)\n",
    "\n",
    "# Plot the annualized losses over the years\n",
    "plt.plot(sorted_losses, p)\n",
    "\n",
    "# Customize the axis labels\n",
    "plt.xlabel(\"Losses($)\", fontsize=12, color='black', fontweight='bold')\n",
    "plt.ylabel(\"Probability of exceedance\", fontsize=12, color='black', fontweight='bold')\n",
    "\n",
    "# Add a title\n",
    "plt.title(\"loss exceedance curve\", fontsize=14, fontweight='bold')\n"
   ]
  },
  {
   "cell_type": "code",
   "execution_count": null,
   "id": "082a23bf",
   "metadata": {},
   "outputs": [],
   "source": [
    "# Plot the histogram of losses\n",
    "plt.figure(figsize=(10,5))\n",
    "plt.hist(losses_per_year, bins = 50)\n",
    "plt.xlabel(\"Losses\")\n",
    "plt.ylabel(\"Frequency\")\n",
    "plt.show()"
   ]
  },
  {
   "cell_type": "markdown",
   "id": "827a88d1",
   "metadata": {},
   "source": [
    "# Descriptive statistics"
   ]
  },
  {
   "cell_type": "code",
   "execution_count": null,
   "id": "a24ff590",
   "metadata": {},
   "outputs": [],
   "source": [
    "# Descriptive statistics\n",
    "\n",
    "mean = np.mean(losses_per_year)\n",
    "print(\"Mean loss: \", mean)\n",
    "\n",
    "std_dev = np.std(losses_per_year)\n",
    "print(\"Standard deviation of losses: \", std_dev)\n",
    "\n",
    "variance = np.var(losses_per_year)\n",
    "print(\"Variance of losses: \", variance)\n",
    "\n",
    "min_loss = np.min(losses_per_year)\n",
    "print(\"Minimum loss: \", min_loss)\n",
    "\n",
    "max_loss = np.max(losses_per_year)\n",
    "print(\"Maximum loss: \", max_loss)"
   ]
  },
  {
   "cell_type": "markdown",
   "id": "d6cfcf1d",
   "metadata": {},
   "source": [
    "# Annualized loss"
   ]
  },
  {
   "cell_type": "code",
   "execution_count": null,
   "id": "1ab54d38",
   "metadata": {},
   "outputs": [],
   "source": [
    "# Create a new column in the cyber_threats DataFrame to store the annualized loss for each event\n",
    "cyber_threats[\"Annualized Loss\"] = 0\n",
    "iterations = 10000\n",
    "time_horizon = 10\n",
    "\n",
    "def attack_loss_amount(lower, upper):\n",
    "    loss = random.uniform(lower, upper)\n",
    "    return loss\n",
    "\n",
    "# Iterate over each event\n",
    "for event in cyber_threats.itertuples():\n",
    "    event_losses = []\n",
    "    # Run the Monte Carlo simulation for the current event\n",
    "    for i in range(iterations):\n",
    "        loss = attack_loss_amount(event.Lower, event.Upper)\n",
    "        event_losses.append(loss)\n",
    "    # Calculate the annualized loss for the current event\n",
    "    annualized_loss = sum(event_losses) / (time_horizon * iterations)\n",
    "    # Update the \"Annualized Loss\" column for the current event\n",
    "    cyber_threats.loc[cyber_threats[\"Event\"] == event.Event, \"Annualized Loss\"] = annualized_loss\n",
    "\n",
    "print(cyber_threats)\n"
   ]
  }
 ],
 "metadata": {
  "kernelspec": {
   "display_name": "Python 3 (ipykernel)",
   "language": "python",
   "name": "python3"
  },
  "language_info": {
   "codemirror_mode": {
    "name": "ipython",
    "version": 3
   },
   "file_extension": ".py",
   "mimetype": "text/x-python",
   "name": "python",
   "nbconvert_exporter": "python",
   "pygments_lexer": "ipython3",
   "version": "3.9.7"
  }
 },
 "nbformat": 4,
 "nbformat_minor": 5
}
